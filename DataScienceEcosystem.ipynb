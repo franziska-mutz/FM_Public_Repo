{
 "cells": [
  {
   "cell_type": "markdown",
   "id": "da1e1c1f-abaf-40d4-90e7-d7410e5b9e81",
   "metadata": {},
   "source": [
    "# Data Science Tools and Ecosystem"
   ]
  },
  {
   "cell_type": "markdown",
   "id": "ba6bcf49-0228-4f7f-b2f9-e7ce61b75cc5",
   "metadata": {},
   "source": [
    "In this notebook, Data Science Tools and Ecosystem are summarized."
   ]
  },
  {
   "cell_type": "markdown",
   "id": "93879068-bfea-4f45-8717-5245a4ac727e",
   "metadata": {},
   "source": [
    "**Objectives:**\n",
    "- List popular languages for Data Science\n",
    "- List popular libraries for Data Science\n",
    "- List open-source tools for Data Science\n",
    "- Gives a few examples of arithmetic expressions "
   ]
  },
  {
   "cell_type": "markdown",
   "id": "b80dfd95-8060-4f64-b97f-ac1ee1501aae",
   "metadata": {},
   "source": [
    "Some of the popular languages that Data Scientists use are:\n",
    "1. Python\n",
    "2. R\n",
    "3. SQL"
   ]
  },
  {
   "cell_type": "markdown",
   "id": "e8999369-1ff9-4c68-a19b-1a9b573db4d5",
   "metadata": {},
   "source": [
    "Some of the commonly used libraries used by Data Scientists include:\n",
    "1. Matplotlib\n",
    "2. Seaborn\n",
    "3. Pandas\n",
    "4. NumPy"
   ]
  },
  {
   "cell_type": "markdown",
   "id": "a6dca71c-ed5b-4459-98bf-9fb525b40bdd",
   "metadata": {},
   "source": [
    "| Data Science Tools |  \n",
    "| -----------------  | \n",
    "| GitHub|\n",
    "| Anaconda |\n",
    "|Jupyter Notebook |\n",
    "| Jupyter Lab |"
   ]
  },
  {
   "cell_type": "markdown",
   "id": "e51ee60a-f3c9-49fa-b14b-7aeaff463b2e",
   "metadata": {},
   "source": [
    "### Below are a few examples of evaluating arithmetic expressions in Python\n",
    "2+4 <br>\n",
    "5-3 \\\n",
    "8/2 \\\n",
    "5*9"
   ]
  },
  {
   "cell_type": "code",
   "execution_count": 8,
   "id": "e2eb0292-d0f4-4c59-b64a-7a2d82109d1c",
   "metadata": {},
   "outputs": [
    {
     "data": {
      "text/plain": [
       "17"
      ]
     },
     "execution_count": 8,
     "metadata": {},
     "output_type": "execute_result"
    }
   ],
   "source": [
    "# This is a simple arithmetic expression to mutiply then add integers\n",
    "(3*4)+5"
   ]
  },
  {
   "cell_type": "code",
   "execution_count": 14,
   "id": "6de8207b-b40b-406b-9e6b-2a5026c8e66f",
   "metadata": {},
   "outputs": [
    {
     "data": {
      "text/plain": [
       "3.3333333333333335"
      ]
     },
     "execution_count": 14,
     "metadata": {},
     "output_type": "execute_result"
    }
   ],
   "source": [
    "# This will convert 200 minutes to hours by dividing by 60\n",
    "200/60"
   ]
  },
  {
   "cell_type": "markdown",
   "id": "bd4fd63b-0490-4462-8489-c32d8966ba3f",
   "metadata": {},
   "source": [
    "## Author\n",
    "Franziska Mutz"
   ]
  },
  {
   "cell_type": "code",
   "execution_count": null,
   "id": "80abc38b-d371-493b-863d-5a9753bb980f",
   "metadata": {},
   "outputs": [],
   "source": []
  }
 ],
 "metadata": {
  "kernelspec": {
   "display_name": "Python 3 (ipykernel)",
   "language": "python",
   "name": "python3"
  },
  "language_info": {
   "codemirror_mode": {
    "name": "ipython",
    "version": 3
   },
   "file_extension": ".py",
   "mimetype": "text/x-python",
   "name": "python",
   "nbconvert_exporter": "python",
   "pygments_lexer": "ipython3",
   "version": "3.12.7"
  }
 },
 "nbformat": 4,
 "nbformat_minor": 5
}
